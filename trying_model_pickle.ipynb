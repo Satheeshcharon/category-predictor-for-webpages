{
 "cells": [
  {
   "cell_type": "code",
   "execution_count": 1,
   "metadata": {},
   "outputs": [
    {
     "data": {
      "text/plain": [
       "[LinearSVC(),\n",
       " TfidfVectorizer(min_df=5, stop_words='english', sublinear_tf=True)]"
      ]
     },
     "execution_count": 1,
     "metadata": {},
     "output_type": "execute_result"
    }
   ],
   "source": [
    "import pickle\n",
    "from sklearn.datasets import load_files\n",
    "\n",
    "cat_data = load_files(r\"database_ml/\")\n",
    "X, y = cat_data.data, cat_data.target\n",
    "\n",
    "model = pickle.load(open('Model.pkl','rb'))\n",
    "model"
   ]
  },
  {
   "cell_type": "code",
   "execution_count": 2,
   "metadata": {},
   "outputs": [
    {
     "name": "stdout",
     "output_type": "stream",
     "text": [
      "Enter URL: https://github.com/\n",
      "----------------------------------------------------------------------------------------------------\n",
      "Predicted Category for giver URL is:  Travel\n"
     ]
    }
   ],
   "source": [
    "import urllib.request\n",
    "from inscriptis import get_text\n",
    "\n",
    "url = input(\"Enter URL: \")\n",
    "html = urllib.request.urlopen(url).read().decode('utf-8')\n",
    "\n",
    "text = get_text(html)\n",
    "\n",
    "extracted_data=text.split()\n",
    "refined_data=[]\n",
    "SYMBOLS = '{}()[].,:;+-*/&|<>=~0123456789' \n",
    "for i in extracted_data:\n",
    "\tif i not in SYMBOLS:\n",
    "\t\trefined_data.append(i)\n",
    "\n",
    "# print(\"\\n\",\"$\"*50,\"HEYAAA we got arround: \",len(refined_data),\" of keywords! Here are they: \",\"$\"*50,\"\\n\")\n",
    "predict_this=\" \".join(refined_data)\n",
    "cat_vect=model[1].transform([predict_this])\n",
    "category_predicted = model[0].predict(cat_vect)\n",
    "print(\"-\"*100)\n",
    "print(\"Predicted Category for giver URL is: \",cat_data.target_names[int(category_predicted)])"
   ]
  },
  {
   "cell_type": "code",
   "execution_count": null,
   "metadata": {},
   "outputs": [],
   "source": []
  }
 ],
 "metadata": {
  "kernelspec": {
   "display_name": "Python 3",
   "language": "python",
   "name": "python3"
  },
  "language_info": {
   "codemirror_mode": {
    "name": "ipython",
    "version": 3
   },
   "file_extension": ".py",
   "mimetype": "text/x-python",
   "name": "python",
   "nbconvert_exporter": "python",
   "pygments_lexer": "ipython3",
   "version": "3.6.8"
  }
 },
 "nbformat": 4,
 "nbformat_minor": 4
}
